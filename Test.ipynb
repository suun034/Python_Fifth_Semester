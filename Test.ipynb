{
 "cells": [
  {
   "cell_type": "markdown",
   "id": "5cef8f16-d43f-45c7-96ac-52b988883af2",
   "metadata": {},
   "source": [
    "1. Optimisation\n",
    "This is the process of finding the best solution or the most efficient way to solve a problem from a set of possible solutions. It involves finding the maximum or minimum value of a function, subject to certain constraints or conditions.\n",
    "Types of Optimisation:\n",
    "* Constrained Optimisation: Involves finding the optimum solution within a set of constraints, such as equations or inequalities that the solution must satisfy.\n",
    "* Unconstrained Optimisation: Involves finding the optimum solution without any constraints, where the variables can take any value.\n",
    "* Linear Optimisation: Involves a linear objective function and linear constraints, where both the objective function and constraints are linear equations.\n",
    "* Non-Linear Optimisation: Involves an objective function or constraints that are non-linear, making the problem more complex to solve.\n",
    "* Discrete Optimisation: Involves variables that can only take on discrete values, often integers, common in scenarios like scheduling and resource allocation."
   ]
  },
  {
   "cell_type": "code",
   "execution_count": 14,
   "id": "10016b0d-23cc-4c1f-953d-7a6e3c635397",
   "metadata": {},
   "outputs": [
    {
     "name": "stdout",
     "output_type": "stream",
     "text": [
      "Minimum value of the function: -1.2499999999999991\n",
      "Optimal values of x and y: [-1.49999997 -2.00000001]\n"
     ]
    }
   ],
   "source": [
    "# 2. write a python program to minimize the function: x^2+y^2+3x+4y+5\n",
    "\n",
    "import numpy as np\n",
    "from scipy.optimize import minimize\n",
    "\n",
    "\n",
    "def func(xy):\n",
    "    x, y = xy\n",
    "    return x**2 + y**2 + 3*x + 4*y + 5\n",
    "\n",
    "initial_guess = [0, 0]\n",
    "\n",
    "\n",
    "result = minimize(func, initial_guess)\n",
    "\n",
    "print(\"Minimum value of the function:\", result.fun)\n",
    "print(\"Optimal values of x and y:\", result.x)"
   ]
  }
 ],
 "metadata": {
  "kernelspec": {
   "display_name": "Python 3 (ipykernel)",
   "language": "python",
   "name": "python3"
  },
  "language_info": {
   "codemirror_mode": {
    "name": "ipython",
    "version": 3
   },
   "file_extension": ".py",
   "mimetype": "text/x-python",
   "name": "python",
   "nbconvert_exporter": "python",
   "pygments_lexer": "ipython3",
   "version": "3.12.5"
  }
 },
 "nbformat": 4,
 "nbformat_minor": 5
}
